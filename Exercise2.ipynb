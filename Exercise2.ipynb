{
  "nbformat": 4,
  "nbformat_minor": 0,
  "metadata": {
    "colab": {
      "name": "Exercise2.ipynb",
      "private_outputs": true,
      "provenance": [],
      "authorship_tag": "ABX9TyN9MiTIPResfDmTzf4iTrZe",
      "include_colab_link": true
    },
    "kernelspec": {
      "name": "python3",
      "display_name": "Python 3"
    },
    "language_info": {
      "name": "python"
    },
    "accelerator": "GPU"
  },
  "cells": [
    {
      "cell_type": "markdown",
      "metadata": {
        "id": "view-in-github",
        "colab_type": "text"
      },
      "source": [
        "<a href=\"https://colab.research.google.com/github/adigup390/deepintocnn/blob/main/Exercise2.ipynb\" target=\"_parent\"><img src=\"https://colab.research.google.com/assets/colab-badge.svg\" alt=\"Open In Colab\"/></a>"
      ]
    },
    {
      "cell_type": "code",
      "metadata": {
        "id": "6dW0ZPnY54sw"
      },
      "source": [
        "!wget -c https://raw.githubusercontent.com/udacity/deep-learning-v2-pytorch/master/intro-to-pytorch/helper.py"
      ],
      "execution_count": null,
      "outputs": []
    },
    {
      "cell_type": "code",
      "metadata": {
        "id": "QsVDPCUr5gS7"
      },
      "source": [
        "%matplotlib inline\n",
        "%config InlineBackend.figure_format = 'retina'\n",
        "\n",
        "import numpy as np\n",
        "import torch\n",
        "import helper\n",
        "import matplotlib.pyplot as plt"
      ],
      "execution_count": null,
      "outputs": []
    },
    {
      "cell_type": "code",
      "metadata": {
        "id": "FKeWrZSl6kLN"
      },
      "source": [
        "from torchvision import datasets, transforms"
      ],
      "execution_count": null,
      "outputs": []
    },
    {
      "cell_type": "code",
      "metadata": {
        "id": "t0eRnsj-60KN"
      },
      "source": [
        "transform = transforms.Compose([transforms.ToTensor(),\n",
        "                                transforms.Normalize((0.5,),(0.5,)),])\n",
        "\n",
        "trainset = datasets.MNIST('~/.pytorch/MNIST_data/',download = True,\n",
        "                          train = True,transform = transform)"
      ],
      "execution_count": null,
      "outputs": []
    },
    {
      "cell_type": "code",
      "metadata": {
        "id": "tFoY7T_a8jzV"
      },
      "source": [
        "trainloader  = torch.utils.data.DataLoader(trainset,batch_size = 64,shuffle = True)"
      ],
      "execution_count": null,
      "outputs": []
    },
    {
      "cell_type": "code",
      "metadata": {
        "id": "nXzOgil4Nwud"
      },
      "source": [
        "dataiter = iter(trainloader)\n",
        "images, labels = dataiter.next()\n",
        "print(type(images))\n",
        "print(images.shape)\n",
        "print(labels.shape)"
      ],
      "execution_count": null,
      "outputs": []
    },
    {
      "cell_type": "code",
      "metadata": {
        "id": "HxS2lN_OOzCa"
      },
      "source": [
        "plt.imshow(images[1].numpy().squeeze(),cmap = 'Greys_r')"
      ],
      "execution_count": null,
      "outputs": []
    },
    {
      "cell_type": "code",
      "metadata": {
        "id": "Fs8HNDzqO42X"
      },
      "source": [
        "def activation(x):\n",
        "  return 1/(1+torch.exp(-x))\n",
        "\n",
        "def multi_layer_NW(inputUnits, hiddenUnits, outputUnits):\n",
        "  torch.manual_seed(7)\n",
        "  n_input = inputUnits\n",
        "  n_hidden = hiddenUnits\n",
        "  n_output = outputUnits\n",
        "\n",
        "  W1 = torch.randn((n_input,n_hidden))\n",
        "  W2 = torch.randn((n_hidden, n_output))\n",
        "\n",
        "  B1 = torch.randn((1,n_hidden))\n",
        "  B2 = torch.randn((1,n_output))\n",
        "  return W1,W2,B1,B2\n",
        "\n",
        "def calc_output(features,W1,W2,B1,B2):\n",
        "  h = activation(features.matmul(W1) + B1)\n",
        "  output = activation(h.matmul(W2) + B2)\n",
        "  return output\n",
        "\n",
        "features = torch.flatten(images,start_dim = 1)\n",
        "W1,W2,B1,B2 = multi_layer_NW(features.shape[1],256,10)\n",
        "out = calc_output(features,W1,W2,B1,B2)"
      ],
      "execution_count": null,
      "outputs": []
    },
    {
      "cell_type": "code",
      "metadata": {
        "id": "pSYX2vxdQDmV"
      },
      "source": [
        "def softmax(x):\n",
        "  A = torch.exp(x)\n",
        "  B = A.sum(dim = 1,keepdim = True)\n",
        "  print(A.shape)\n",
        "  print(B.shape)\n",
        "  return A/B\n",
        "\n",
        "probabilities = softmax(out)\n",
        "print(probabilities.shape)\n",
        "print(probabilities.sum(dim = 1))"
      ],
      "execution_count": null,
      "outputs": []
    },
    {
      "cell_type": "code",
      "metadata": {
        "id": "sO_ftFXSphyD"
      },
      "source": [
        "from torch import nn"
      ],
      "execution_count": null,
      "outputs": []
    },
    {
      "cell_type": "code",
      "metadata": {
        "id": "qD2Y5Jm-rSE9"
      },
      "source": [
        "class Network(nn.Module):\n",
        "  def __init__(self):\n",
        "    super().__init__()\n",
        "    self.hidden = nn.Linear(784,256)\n",
        "    self.output = nn.Linear(256,10)\n",
        "    self.sigmoid = nn.Sigmoid()\n",
        "    self.softmax = nn.Softmax(dim=1)\n",
        "\n",
        "  def forward(self,x):\n",
        "    x = self.hidden(x)\n",
        "    x = self.sigmoid(x)\n",
        "    x = self.output(x)\n",
        "    x = self.sotmax(x)\n",
        "    return x"
      ],
      "execution_count": null,
      "outputs": []
    },
    {
      "cell_type": "code",
      "metadata": {
        "id": "rWF95pAgslqH"
      },
      "source": [
        "model = Network()\n",
        "model"
      ],
      "execution_count": null,
      "outputs": []
    },
    {
      "cell_type": "code",
      "metadata": {
        "id": "e_Nq1sVns7-m"
      },
      "source": [
        "import torch.nn.functional as F\n",
        "\n",
        "class Network(nn.Module):\n",
        "  def __init__(self):\n",
        "    super().__init__()\n",
        "    self.hidden = nn.Linear(784,256)\n",
        "    self.output = nn.Linear(256,10)\n",
        "\n",
        "  def forward(self,x):\n",
        "    x = F.sigmoid(self.hidden(x))\n",
        "    x = F.softmax(self.output(x),dim = 1)\n",
        "    return x"
      ],
      "execution_count": null,
      "outputs": []
    },
    {
      "cell_type": "code",
      "metadata": {
        "id": "Ju1nKG8bzjKN"
      },
      "source": [
        "class mynetwork(nn.Module):\n",
        "  def __init__(self):\n",
        "    super(). __init__()\n",
        "    self.fc1 = nn.Linear(784,128)\n",
        "    self.fc2 = nn.Linear(128,64)\n",
        "    self.fc3 = nn.Linear(64,10)\n",
        "\n",
        "  def forward(self,x):\n",
        "    x = F.relu(self.fc1(x))\n",
        "    x = F.relu(self.fc2(x))\n",
        "    x = F.softmax(self.fc3(x),dim = 1)\n",
        "    return x;"
      ],
      "execution_count": null,
      "outputs": []
    },
    {
      "cell_type": "code",
      "metadata": {
        "id": "D1_PaeGE1W_w"
      },
      "source": [
        "model = mynetwork()\n",
        "model"
      ],
      "execution_count": null,
      "outputs": []
    },
    {
      "cell_type": "code",
      "metadata": {
        "id": "GUfbX6Ow1iAt"
      },
      "source": [
        "out = model.forward(features)\n",
        "print(out.size())"
      ],
      "execution_count": null,
      "outputs": []
    },
    {
      "cell_type": "code",
      "metadata": {
        "id": "z7tLFPrH18ch"
      },
      "source": [
        "print(model.fc1.weight)\n",
        "print(model.fc1.bias)"
      ],
      "execution_count": null,
      "outputs": []
    },
    {
      "cell_type": "code",
      "metadata": {
        "id": "dkN2Grqb2x80"
      },
      "source": [
        "model.fc1.bias.data.fill_(0)"
      ],
      "execution_count": null,
      "outputs": []
    },
    {
      "cell_type": "code",
      "metadata": {
        "id": "_pzcke5O3OYC"
      },
      "source": [
        "model.fc1.weight.data.normal_(std = 0.01)"
      ],
      "execution_count": null,
      "outputs": []
    },
    {
      "cell_type": "code",
      "metadata": {
        "id": "36fe-mOM3X52"
      },
      "source": [
        "dataiter = iter(trainloader)\n",
        "images,labels = dataiter.next()\n",
        "\n",
        "images.resize_(64,1,784)\n",
        "\n",
        "img_idx = 0;\n",
        "print(images[img_idx].size())\n",
        "ps = model.forward(images[img_idx])\n",
        "\n",
        "img = images[img_idx]\n",
        "helper.view_classify(img.view(1, 28, 28), ps)"
      ],
      "execution_count": null,
      "outputs": []
    },
    {
      "cell_type": "code",
      "metadata": {
        "id": "jwyF_wtU4O87"
      },
      "source": [
        "input_size = 784\n",
        "hidden_sizes = [128,64]\n",
        "output_size = 10\n",
        "\n",
        "model = nn.Sequential(nn.Linear(input_size, hidden_sizes[0]),\n",
        "                       nn.ReLU(),\n",
        "                       nn.Linear(hidden_sizes[0],hidden_sizes[1]),\n",
        "                       nn.ReLU(),\n",
        "                       nn.Linear(hidden_sizes[1],output_size),\n",
        "                       nn.Softmax(dim = 1))\n",
        "print(model)\n",
        "\n",
        "images,labels = iter(trainloader).next()\n",
        "images.resize_(images.shape[0],1,784)\n",
        "ps = model.forward(images[0,:])\n",
        "helper.view_classify(images[0].view(1, 28, 28), ps)"
      ],
      "execution_count": null,
      "outputs": []
    },
    {
      "cell_type": "code",
      "metadata": {
        "id": "eGJ1RAcA8C0b"
      },
      "source": [
        "print(model[0])\n",
        "model[0].weight"
      ],
      "execution_count": null,
      "outputs": []
    },
    {
      "cell_type": "code",
      "metadata": {
        "id": "WwrhF03d8LeL"
      },
      "source": [
        ""
      ],
      "execution_count": null,
      "outputs": []
    }
  ]
}