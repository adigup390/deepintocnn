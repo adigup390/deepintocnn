{
  "nbformat": 4,
  "nbformat_minor": 0,
  "metadata": {
    "colab": {
      "name": "Exercise2.ipynb",
      "provenance": [],
      "authorship_tag": "ABX9TyO2qp0Qx67zpexzdERW9ai5",
      "include_colab_link": true
    },
    "kernelspec": {
      "name": "python3",
      "display_name": "Python 3"
    },
    "language_info": {
      "name": "python"
    },
    "accelerator": "GPU"
  },
  "cells": [
    {
      "cell_type": "markdown",
      "metadata": {
        "id": "view-in-github",
        "colab_type": "text"
      },
      "source": [
        "<a href=\"https://colab.research.google.com/github/adigup390/deepintocnn/blob/main/Exercise4.ipynb\" target=\"_parent\"><img src=\"https://colab.research.google.com/assets/colab-badge.svg\" alt=\"Open In Colab\"/></a>"
      ]
    },
    {
      "cell_type": "code",
      "metadata": {
        "id": "GEp5r3ZQwpz1"
      },
      "source": [
        "import torch\n",
        "from torchvision import datasets,transforms\n",
        "import helper\n",
        "\n",
        "transform = transforms.Compose([transforms.ToTensor(),\n",
        "                                transforms.Normalize((0.5,),(0.5,))])\n",
        "\n",
        "trainset = datasets.FashionMNIST('~/.pytorch/F_MNIST_data/', download = True, train = True, transform  = transform)\n",
        "trainloader = torch.utils.data.DataLoader(trainset, batch_size = 64,shuffle = True)\n",
        "\n",
        "testset = datasets.FashionMNIST('~/.pytorch/F_MNIST_data/', download = True, train = False, transform  = transform)\n",
        "testloader = torch.utils.data.DataLoader(trainset, batch_size = 64,shuffle = True)\n"
      ],
      "execution_count": 65,
      "outputs": []
    },
    {
      "cell_type": "code",
      "metadata": {
        "colab": {
          "base_uri": "https://localhost:8080/",
          "height": 265
        },
        "id": "9eq53JamzI4-",
        "outputId": "77135515-93e2-4c59-aa7e-d9442d948331"
      },
      "source": [
        "image, label = next(iter(trainloader))\n",
        "helper.imshow(image[0,:])"
      ],
      "execution_count": 66,
      "outputs": [
        {
          "output_type": "execute_result",
          "data": {
            "text/plain": [
              "<matplotlib.axes._subplots.AxesSubplot at 0x7f606fdc9390>"
            ]
          },
          "metadata": {
            "tags": []
          },
          "execution_count": 66
        },
        {
          "output_type": "display_data",
          "data": {
            "image/png": "[encoded data removed]",
            "text/plain": [
              "<Figure size 432x288 with 1 Axes>"
            ]
          },
          "metadata": {
            "tags": [],
            "needs_background": "light"
          }
        }
      ]
    },
    {
      "cell_type": "code",
      "metadata": {
        "colab": {
          "base_uri": "https://localhost:8080/"
        },
        "id": "LCz-4MOczWb3",
        "outputId": "ed1fd174-5ed9-40d1-e62c-63000af888ce"
      },
      "source": [
        "from torch import nn\n",
        "model = nn.Sequential(nn.Linear(784,256),\n",
        "                      nn.ReLU(),\n",
        "                      nn.Linear(256,64),\n",
        "                      nn.ReLU(),\n",
        "                      nn.Linear(64,64),\n",
        "                      nn.ReLU(),\n",
        "                      nn.Linear(64,32),\n",
        "                      nn.ReLU(),\n",
        "                      nn.Linear(32,10),\n",
        "                      nn.LogSoftmax(dim = 1))\n",
        "print(model)\n"
      ],
      "execution_count": 67,
      "outputs": [
        {
          "output_type": "stream",
          "text": [
            "Sequential(\n",
            "  (0): Linear(in_features=784, out_features=256, bias=True)\n",
            "  (1): ReLU()\n",
            "  (2): Linear(in_features=256, out_features=64, bias=True)\n",
            "  (3): ReLU()\n",
            "  (4): Linear(in_features=64, out_features=64, bias=True)\n",
            "  (5): ReLU()\n",
            "  (6): Linear(in_features=64, out_features=32, bias=True)\n",
            "  (7): ReLU()\n",
            "  (8): Linear(in_features=32, out_features=10, bias=True)\n",
            "  (9): LogSoftmax(dim=1)\n",
            ")\n"
          ],
          "name": "stdout"
        }
      ]
    },
    {
      "cell_type": "code",
      "metadata": {
        "id": "gVwErEB-0Y3H"
      },
      "source": [
        "criterion = nn.NLLLoss()\n",
        "\n",
        "from torch import optim\n",
        "optimizer = optim.SGD(model.parameters(),lr = 0.015)\n"
      ],
      "execution_count": 76,
      "outputs": []
    },
    {
      "cell_type": "code",
      "metadata": {
        "colab": {
          "base_uri": "https://localhost:8080/"
        },
        "id": "nwNNo-fQ18pu",
        "outputId": "dd73e943-00e0-4be1-9b5f-4438344ad5fc"
      },
      "source": [
        "epochs = 20\n",
        "for i in range(epochs):\n",
        "    running_loss = 0\n",
        "    for images,labels in iter(trainloader):\n",
        "        optimizer.zero_grad()\n",
        "        input = images.resize_(images.shape[0],784)\n",
        "        output = model(input)\n",
        "        loss = criterion(output,labels)\n",
        "        running_loss+= loss\n",
        "        loss.backward()\n",
        "        optimizer.step()\n",
        "    print(f\"Loss = {running_loss}\")"
      ],
      "execution_count": 78,
      "outputs": [
        {
          "output_type": "stream",
          "text": [
            "Loss = 0.593212366104126\n",
            "Loss = 0.5642447471618652\n",
            "Loss = 0.5256668925285339\n",
            "Loss = 0.5096140503883362\n",
            "Loss = 0.4931884706020355\n",
            "Loss = 0.4731065630912781\n",
            "Loss = 0.44546061754226685\n",
            "Loss = 0.42988765239715576\n",
            "Loss = 0.41886502504348755\n",
            "Loss = 0.4046832323074341\n",
            "Loss = 0.38971367478370667\n",
            "Loss = 0.3761575222015381\n",
            "Loss = 0.36499759554862976\n",
            "Loss = 0.3551250994205475\n",
            "Loss = 0.34118908643722534\n",
            "Loss = 0.33328017592430115\n",
            "Loss = 0.3199946880340576\n",
            "Loss = 0.3128839433193207\n",
            "Loss = 0.3053848147392273\n",
            "Loss = 0.295622318983078\n"
          ],
          "name": "stdout"
        }
      ]
    },
    {
      "cell_type": "code",
      "metadata": {
        "colab": {
          "base_uri": "https://localhost:8080/"
        },
        "id": "WT3wh7r98Blp",
        "outputId": "e9825b5f-1e35-426b-e584-184e6d876209"
      },
      "source": [
        "correct = 0\n",
        "total = 0\n",
        "for image,label in testloader:\n",
        "  input = image.resize_(image.shape[0],784)\n",
        "  output = model(input)\n",
        "  predicted = torch.argmax(output,dim = 1,keepdim = True)\n",
        "  total += predicted.size(0)\n",
        "  correct+= (predicted==label).sum().item()\n",
        "print(total)\n",
        "print(correct)\n",
        "print(f\"Accuracy = {correct/total*100}\")"
      ],
      "execution_count": 87,
      "outputs": [
        {
          "output_type": "stream",
          "text": [
            "60000\n",
            "438466\n",
            "Accuracy = 730.7766666666666\n"
          ],
          "name": "stdout"
        }
      ]
    },
    {
      "cell_type": "code",
      "metadata": {
        "id": "dVlOoCBRE43h"
      },
      "source": [
        ""
      ],
      "execution_count": null,
      "outputs": []
    }
  ]
}