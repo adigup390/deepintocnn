{
  "nbformat": 4,
  "nbformat_minor": 0,
  "metadata": {
    "colab": {
      "name": "Exercise2.ipynb",
      "provenance": [],
      "authorship_tag": "ABX9TyOLTVn4q7K/Th26NfKyYMqj",
      "include_colab_link": true
    },
    "kernelspec": {
      "name": "python3",
      "display_name": "Python 3"
    },
    "language_info": {
      "name": "python"
    },
    "accelerator": "GPU"
  },
  "cells": [
    {
      "cell_type": "markdown",
      "metadata": {
        "id": "view-in-github",
        "colab_type": "text"
      },
      "source": [
        "<a href=\"https://colab.research.google.com/github/adigup390/deepintocnn/blob/main/Exercise5_validationscore1.ipynb\" target=\"_parent\"><img src=\"https://colab.research.google.com/assets/colab-badge.svg\" alt=\"Open In Colab\"/></a>"
      ]
    },
    {
      "cell_type": "code",
      "metadata": {
        "colab": {
          "base_uri": "https://localhost:8080/"
        },
        "id": "IKBWDqnAOgsq",
        "outputId": "0e5b4bcc-d289-44be-ab12-88dc6fc48087"
      },
      "source": [
        "!wget -c https://raw.githubusercontent.com/udacity/deep-learning-v2-pytorch/master/intro-to-pytorch/helper.py"
      ],
      "execution_count": 1,
      "outputs": [
        {
          "output_type": "stream",
          "text": [
            "--2021-06-06 03:52:53--  https://raw.githubusercontent.com/udacity/deep-learning-v2-pytorch/master/intro-to-pytorch/helper.py\n",
            "Resolving raw.githubusercontent.com (raw.githubusercontent.com)... 185.199.108.133, 185.199.109.133, 185.199.110.133, ...\n",
            "Connecting to raw.githubusercontent.com (raw.githubusercontent.com)|185.199.108.133|:443... connected.\n",
            "HTTP request sent, awaiting response... 416 Range Not Satisfiable\n",
            "\n",
            "    The file is already fully retrieved; nothing to do.\n",
            "\n"
          ],
          "name": "stdout"
        }
      ]
    },
    {
      "cell_type": "code",
      "metadata": {
        "id": "dVlOoCBRE43h"
      },
      "source": [
        "import torch\n",
        "from torchvision import datasets, transforms\n",
        "import helper\n",
        "transform = transforms.Compose([transforms.ToTensor(),\n",
        "                                transforms.Normalize((0.5,),(0.5,))])\n",
        "\n",
        "trainset = datasets.FashionMNIST('~/.pytorch/F_MNIST_data/',download = True,train = True,transform = transform)\n",
        "trainloader = torch.utils.data.DataLoader(trainset,shuffle = True, batch_size = 64)\n",
        "\n",
        "testset = datasets.FashionMNIST('~/.pytorch/F_MNIST_data/',download = True,train = False,transform = transform)\n",
        "testloader = torch.utils.data.DataLoader(testset,shuffle = True, batch_size = 64)\n"
      ],
      "execution_count": 2,
      "outputs": []
    },
    {
      "cell_type": "code",
      "metadata": {
        "colab": {
          "base_uri": "https://localhost:8080/"
        },
        "id": "NP5ZVgBcOqZ-",
        "outputId": "ae4a6091-0e76-4f34-866b-5c53c53f8b0b"
      },
      "source": [
        "from torch import nn\n",
        "model = nn.Sequential(nn.Linear(784,256),\n",
        "                      nn.ReLU(),\n",
        "                      nn.Linear(256,128),\n",
        "                      nn.ReLU(),\n",
        "                      nn.Linear(128,64),\n",
        "                      nn.ReLU(),\n",
        "                      nn.Linear(64,32),\n",
        "                      nn.ReLU(),\n",
        "                      nn.Linear(32,10),\n",
        "                      nn.LogSoftmax(dim = 1))\n",
        "print(model)\n"
      ],
      "execution_count": 16,
      "outputs": [
        {
          "output_type": "stream",
          "text": [
            "Sequential(\n",
            "  (0): Linear(in_features=784, out_features=256, bias=True)\n",
            "  (1): ReLU()\n",
            "  (2): Linear(in_features=256, out_features=64, bias=True)\n",
            "  (3): ReLU()\n",
            "  (4): Linear(in_features=64, out_features=64, bias=True)\n",
            "  (5): ReLU()\n",
            "  (6): Linear(in_features=64, out_features=32, bias=True)\n",
            "  (7): ReLU()\n",
            "  (8): Linear(in_features=32, out_features=10, bias=True)\n",
            "  (9): LogSoftmax(dim=1)\n",
            ")\n"
          ],
          "name": "stdout"
        }
      ]
    },
    {
      "cell_type": "code",
      "metadata": {
        "colab": {
          "base_uri": "https://localhost:8080/"
        },
        "id": "E7AItlLSPTR2",
        "outputId": "46241176-bd2d-45bf-c58c-ffa095803b6f"
      },
      "source": [
        "images,labels = next(iter(trainloader))\n",
        "images = images.view(images.shape[0],-1)\n",
        "ps = torch.exp(model(images))\n",
        "print(ps.shape)"
      ],
      "execution_count": 62,
      "outputs": [
        {
          "output_type": "stream",
          "text": [
            "torch.Size([64, 10])\n"
          ],
          "name": "stdout"
        }
      ]
    },
    {
      "cell_type": "code",
      "metadata": {
        "colab": {
          "base_uri": "https://localhost:8080/"
        },
        "id": "v32WMfD9Qnbe",
        "outputId": "e58b590a-dec3-4355-b553-4327dc072c18"
      },
      "source": [
        "top_p, top_class = ps.topk(1,dim = 1)\n",
        "print(top_class[:10,:])"
      ],
      "execution_count": 63,
      "outputs": [
        {
          "output_type": "stream",
          "text": [
            "tensor([[6],\n",
            "        [7],\n",
            "        [7],\n",
            "        [6],\n",
            "        [7],\n",
            "        [6],\n",
            "        [6],\n",
            "        [6],\n",
            "        [7],\n",
            "        [7]])\n"
          ],
          "name": "stdout"
        }
      ]
    },
    {
      "cell_type": "code",
      "metadata": {
        "id": "fCSGaezXQy1L"
      },
      "source": [
        "#equals = top_class == labels.view(top_class.shape[0],top_class.shape[1])\n",
        "equals = top_class == labels.view(*top_class.shape)"
      ],
      "execution_count": 64,
      "outputs": []
    },
    {
      "cell_type": "code",
      "metadata": {
        "colab": {
          "base_uri": "https://localhost:8080/"
        },
        "id": "ncHmeBc5SMrD",
        "outputId": "d432ecc9-1394-472c-be5b-0272a3a2a898"
      },
      "source": [
        "print(equals.shape)"
      ],
      "execution_count": 65,
      "outputs": [
        {
          "output_type": "stream",
          "text": [
            "torch.Size([64, 1])\n"
          ],
          "name": "stdout"
        }
      ]
    },
    {
      "cell_type": "code",
      "metadata": {
        "colab": {
          "base_uri": "https://localhost:8080/"
        },
        "id": "-JwcoY2xSPyu",
        "outputId": "1052991b-421b-4c28-83f2-b0b673e2d07b"
      },
      "source": [
        "accuracy = torch.mean(equals.type(torch.FloatTensor))\n",
        "print(f\"Accuracy : {accuracy.item()*100}\")"
      ],
      "execution_count": 66,
      "outputs": [
        {
          "output_type": "stream",
          "text": [
            "Accuracy : 12.5\n"
          ],
          "name": "stdout"
        }
      ]
    },
    {
      "cell_type": "code",
      "metadata": {
        "id": "6W1fgbykX1S5"
      },
      "source": [
        "train_losses, test_losses = [],[]"
      ],
      "execution_count": 17,
      "outputs": []
    },
    {
      "cell_type": "code",
      "metadata": {
        "id": "f_qNIhYMXuYL"
      },
      "source": [
        "from torch import optim\n",
        "criterion = nn.NLLLoss()\n",
        "optimizer = optim.SGD(model.parameters(), lr = 0.05)\n",
        "epochs = 25"
      ],
      "execution_count": 20,
      "outputs": []
    },
    {
      "cell_type": "code",
      "metadata": {
        "colab": {
          "base_uri": "https://localhost:8080/"
        },
        "id": "eUT9yGErSwY-",
        "outputId": "8ea8a915-6b22-476a-f272-2177d996f613"
      },
      "source": [
        "\n",
        "for i in range(epochs):\n",
        "  running_loss = 0\n",
        "  for images, labels in iter(trainloader):\n",
        "    optimizer.zero_grad()\n",
        "    input = images.view(images.shape[0],-1)\n",
        "    log_ps = model(input)\n",
        "    loss = criterion(log_ps, labels)\n",
        "    running_loss += loss\n",
        "    loss.backward()\n",
        "    optimizer.step()\n",
        "  train_losses.append(running_loss)\n",
        "  print(f\"training_loss: {running_loss}\")\n",
        "  correct = 0\n",
        "  test_running_loss = 0\n",
        "  with torch.no_grad():\n",
        "    for image, label in iter(testloader):\n",
        "      input = image.view(image.shape[0],-1)\n",
        "      output = model(input)\n",
        "      _, predicted = torch.max(output,dim = 1)\n",
        "      equals = predicted==label\n",
        "      #print(equals.shape)\n",
        "      correct += torch.sum(equals).item()\n",
        "      loss = criterion(output,label)\n",
        "      test_running_loss += loss\n",
        "    test_losses.append(test_running_loss)\n",
        "    print(f\"test_loss: {test_running_loss}\")\n",
        "    print(f\"Accuracy: {correct/10000}\")"
      ],
      "execution_count": 21,
      "outputs": [
        {
          "output_type": "stream",
          "text": [
            "training_loss: 21.76178741455078\n",
            "test_loss: 103.31669616699219\n",
            "Accuracy: 0.8956\n",
            "training_loss: 15.606644630432129\n",
            "test_loss: 112.7665023803711\n",
            "Accuracy: 0.8933\n",
            "training_loss: 13.57127857208252\n",
            "test_loss: 114.87779998779297\n",
            "Accuracy: 0.8941\n",
            "training_loss: 13.265795707702637\n",
            "test_loss: 119.64803314208984\n",
            "Accuracy: 0.8939\n",
            "training_loss: 12.444832801818848\n",
            "test_loss: 121.8359146118164\n",
            "Accuracy: 0.8968\n",
            "training_loss: 10.764030456542969\n",
            "test_loss: 129.56002807617188\n",
            "Accuracy: 0.8949\n",
            "training_loss: 11.43769359588623\n",
            "test_loss: 129.4817657470703\n",
            "Accuracy: 0.8915\n",
            "training_loss: 12.129264831542969\n",
            "test_loss: 131.266357421875\n",
            "Accuracy: 0.8926\n",
            "training_loss: 10.30400276184082\n",
            "test_loss: 138.63693237304688\n",
            "Accuracy: 0.8903\n",
            "training_loss: 10.950304985046387\n",
            "test_loss: 142.03890991210938\n",
            "Accuracy: 0.8953\n",
            "training_loss: 9.637785911560059\n",
            "test_loss: 137.66207885742188\n",
            "Accuracy: 0.8955\n",
            "training_loss: 13.177538871765137\n",
            "test_loss: 140.17640686035156\n",
            "Accuracy: 0.8942\n",
            "training_loss: 12.328132629394531\n",
            "test_loss: 141.75192260742188\n",
            "Accuracy: 0.8962\n",
            "training_loss: 12.150524139404297\n",
            "test_loss: 142.62631225585938\n",
            "Accuracy: 0.8929\n",
            "training_loss: 7.860325813293457\n",
            "test_loss: 148.40650939941406\n",
            "Accuracy: 0.8938\n",
            "training_loss: 14.22264289855957\n",
            "test_loss: 140.30955505371094\n",
            "Accuracy: 0.8928\n",
            "training_loss: 10.714037895202637\n",
            "test_loss: 146.2612762451172\n",
            "Accuracy: 0.8911\n",
            "training_loss: 6.157534599304199\n",
            "test_loss: 146.82366943359375\n",
            "Accuracy: 0.8934\n",
            "training_loss: 12.6192626953125\n",
            "test_loss: 153.1568603515625\n",
            "Accuracy: 0.8892\n",
            "training_loss: 15.419297218322754\n",
            "test_loss: 146.20510864257812\n",
            "Accuracy: 0.8904\n",
            "training_loss: 7.180322647094727\n",
            "test_loss: 149.38563537597656\n",
            "Accuracy: 0.8915\n",
            "training_loss: 4.508931636810303\n",
            "test_loss: 152.52044677734375\n",
            "Accuracy: 0.8946\n",
            "training_loss: 3.139194965362549\n",
            "test_loss: 156.57752990722656\n",
            "Accuracy: 0.8939\n",
            "training_loss: 3.484435796737671\n",
            "test_loss: 164.16807556152344\n",
            "Accuracy: 0.895\n",
            "training_loss: 2.576295852661133\n",
            "test_loss: 168.4416046142578\n",
            "Accuracy: 0.8938\n"
          ],
          "name": "stdout"
        }
      ]
    },
    {
      "cell_type": "code",
      "metadata": {
        "colab": {
          "base_uri": "https://localhost:8080/",
          "height": 295
        },
        "id": "pgo53J87YK7u",
        "outputId": "4a6603ca-1179-4dd8-fb04-d31580818af4"
      },
      "source": [
        "import matplotlib.pyplot as plt\n",
        "epochs = range(1,96)\n",
        "plt.plot(epochs, train_losses, 'g', label='Training loss')\n",
        "plt.plot(epochs, test_losses, 'b', label='validation loss')\n",
        "plt.title('Training and Validation loss')\n",
        "plt.xlabel('Epochs')\n",
        "plt.ylabel('Loss')\n",
        "plt.legend()\n",
        "plt.show()"
      ],
      "execution_count": 22,
      "outputs": [
        {
          "output_type": "display_data",
          "data": {
            "image/png": "[encoded data removed]",
            "text/plain": [
              "<Figure size 432x288 with 1 Axes>"
            ]
          },
          "metadata": {
            "tags": [],
            "needs_background": "light"
          }
        }
      ]
    },
    {
      "cell_type": "code",
      "metadata": {
        "id": "7VxYOgoukSL6"
      },
      "source": [
        ""
      ],
      "execution_count": null,
      "outputs": []
    }
  ]
}