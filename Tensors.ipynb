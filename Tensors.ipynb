{
 "cells": [
  {
   "cell_type": "code",
   "execution_count": 41,
   "id": "4b6b0075",
   "metadata": {},
   "outputs": [],
   "source": [
    "import torch\n",
    "import numpy as np"
   ]
  },
  {
   "cell_type": "code",
   "execution_count": 42,
   "id": "e7342477",
   "metadata": {},
   "outputs": [],
   "source": [
    "data = [[1,2],[3,4]]\n",
    "x_data = torch.tensor(data)"
   ]
  },
  {
   "cell_type": "code",
   "execution_count": 43,
   "id": "67136cfd",
   "metadata": {},
   "outputs": [],
   "source": [
    "np_array = np.array(data)\n",
    "x_np = torch.from_numpy(np_array)"
   ]
  },
  {
   "cell_type": "code",
   "execution_count": 44,
   "id": "c2804704",
   "metadata": {},
   "outputs": [
    {
     "name": "stdout",
     "output_type": "stream",
     "text": [
      "tensor([[1, 2],\n",
      "        [3, 4]])\n"
     ]
    }
   ],
   "source": [
    "x_ones = torch.ones_like(x_data)\n",
    "print(x_data)"
   ]
  },
  {
   "cell_type": "code",
   "execution_count": 46,
   "id": "7079bb62",
   "metadata": {},
   "outputs": [
    {
     "name": "stdout",
     "output_type": "stream",
     "text": [
      "tensor([[0.3697, 0.7320],\n",
      "        [0.1609, 0.1795]])\n"
     ]
    }
   ],
   "source": [
    "x_rand = torch.rand_like((x_data),dtype = torch.float) #this will overridde the datatype of x_data\n",
    "print(x_rand)"
   ]
  },
  {
   "cell_type": "code",
   "execution_count": 51,
   "id": "5662b674",
   "metadata": {},
   "outputs": [
    {
     "name": "stdout",
     "output_type": "stream",
     "text": [
      "tensor([[0.8447, 0.4947, 0.9290],\n",
      "        [0.8630, 0.0956, 0.9465]])\n",
      "tensor([[1., 1., 1.],\n",
      "        [1., 1., 1.]])\n",
      "tensor([[0., 0., 0.],\n",
      "        [0., 0., 0.]])\n"
     ]
    }
   ],
   "source": [
    "shape = (2,3,)\n",
    "rand_tensor = torch.rand(shape)\n",
    "print(rand_tensor)\n",
    "ones_tensor = torch.ones(shape)\n",
    "print(ones_tensor)\n",
    "zeros_tensor = torch.zeros(shape)\n",
    "print(zeros_tensor)"
   ]
  },
  {
   "cell_type": "code",
   "execution_count": 60,
   "id": "4d2e9525",
   "metadata": {},
   "outputs": [
    {
     "name": "stdout",
     "output_type": "stream",
     "text": [
      "tensor([[0.9989, 0.9971, 0.4654, 0.0701],\n",
      "        [0.0770, 0.7398, 0.8573, 0.7955],\n",
      "        [0.9410, 0.4611, 0.5919, 0.3200],\n",
      "        [0.8322, 0.6526, 0.7122, 0.8202]])\n",
      "tensor([0.9989, 0.9971, 0.4654, 0.0701])\n",
      "tensor([0.9989, 0.0770, 0.9410, 0.8322])\n",
      "tensor([0.0701, 0.7955, 0.3200, 0.8202])\n"
     ]
    }
   ],
   "source": [
    "#indexing and slicing\n",
    "tensor = torch.rand(4,4)\n",
    "print(tensor)\n",
    "print(tensor[0])\n",
    "print(tensor[:,0])\n",
    "print(tensor[:,-1])\n"
   ]
  },
  {
   "cell_type": "code",
   "execution_count": 61,
   "id": "6d99bb16",
   "metadata": {},
   "outputs": [
    {
     "name": "stdout",
     "output_type": "stream",
     "text": [
      "tensor([[0.9989, 0.9971, 0.4654, 0.0701, 0.9989, 0.9971, 0.4654, 0.0701, 0.9989,\n",
      "         0.9971, 0.4654, 0.0701],\n",
      "        [0.0770, 0.7398, 0.8573, 0.7955, 0.0770, 0.7398, 0.8573, 0.7955, 0.0770,\n",
      "         0.7398, 0.8573, 0.7955],\n",
      "        [0.9410, 0.4611, 0.5919, 0.3200, 0.9410, 0.4611, 0.5919, 0.3200, 0.9410,\n",
      "         0.4611, 0.5919, 0.3200],\n",
      "        [0.8322, 0.6526, 0.7122, 0.8202, 0.8322, 0.6526, 0.7122, 0.8202, 0.8322,\n",
      "         0.6526, 0.7122, 0.8202]])\n"
     ]
    }
   ],
   "source": [
    "t1 = torch.cat([tensor,tensor,tensor],dim = 1);\n",
    "print(t1)"
   ]
  },
  {
   "cell_type": "code",
   "execution_count": 64,
   "id": "d3522650",
   "metadata": {},
   "outputs": [
    {
     "name": "stdout",
     "output_type": "stream",
     "text": [
      "tensor([[2.2134, 1.2692, 1.6975, 1.8708],\n",
      "        [1.2692, 1.9209, 1.1755, 1.8098],\n",
      "        [1.6975, 1.1755, 1.5507, 1.7679],\n",
      "        [1.8708, 1.8098, 1.7679, 2.2982]])\n",
      "\n",
      "tensor([[2.2134, 1.2692, 1.6975, 1.8708],\n",
      "        [1.2692, 1.9209, 1.1755, 1.8098],\n",
      "        [1.6975, 1.1755, 1.5507, 1.7679],\n",
      "        [1.8708, 1.8098, 1.7679, 2.2982]])\n",
      "\n",
      "tensor([[2.2134, 1.2692, 1.6975, 1.8708],\n",
      "        [1.2692, 1.9209, 1.1755, 1.8098],\n",
      "        [1.6975, 1.1755, 1.5507, 1.7679],\n",
      "        [1.8708, 1.8098, 1.7679, 2.2982]])\n"
     ]
    }
   ],
   "source": [
    "y1 = tensor @ tensor.T\n",
    "y2 = tensor.matmul(tensor.T)\n",
    "y3 = torch.rand_like(tensor)\n",
    "y3 = torch.matmul(tensor,tensor.T, out = y3)\n",
    "print(f\"{y1}\\n\\n{y2}\\n\\n{y3}\")"
   ]
  },
  {
   "cell_type": "code",
   "execution_count": 65,
   "id": "f95fbf17",
   "metadata": {},
   "outputs": [],
   "source": [
    "z1 = tensor*tensor\n",
    "z2 = tensor.mul(tensor)"
   ]
  },
  {
   "cell_type": "code",
   "execution_count": 66,
   "id": "00796762",
   "metadata": {},
   "outputs": [
    {
     "name": "stdout",
     "output_type": "stream",
     "text": [
      "tensor([[0.9977, 0.9942, 0.2166, 0.0049],\n",
      "        [0.0059, 0.5472, 0.7350, 0.6328],\n",
      "        [0.8854, 0.2126, 0.3503, 0.1024],\n",
      "        [0.6925, 0.4258, 0.5073, 0.6727]])\n",
      "\n",
      "tensor([[0.9977, 0.9942, 0.2166, 0.0049],\n",
      "        [0.0059, 0.5472, 0.7350, 0.6328],\n",
      "        [0.8854, 0.2126, 0.3503, 0.1024],\n",
      "        [0.6925, 0.4258, 0.5073, 0.6727]])\n"
     ]
    }
   ],
   "source": [
    "print(f\"{z1}\\n\\n{z2}\")"
   ]
  },
  {
   "cell_type": "code",
   "execution_count": 69,
   "id": "b5b69c91",
   "metadata": {},
   "outputs": [
    {
     "name": "stdout",
     "output_type": "stream",
     "text": [
      "torch.Size([]) <class 'float'>\n"
     ]
    }
   ],
   "source": [
    "agg = tensor.sum()\n",
    "agg1 = agg.item()\n",
    "print(agg.shape,type(agg1))"
   ]
  },
  {
   "cell_type": "code",
   "execution_count": 72,
   "id": "cc349121",
   "metadata": {},
   "outputs": [
    {
     "name": "stdout",
     "output_type": "stream",
     "text": [
      "tensor([[0.9989, 0.9971, 0.4654, 0.0701],\n",
      "        [0.0770, 0.7398, 0.8573, 0.7955],\n",
      "        [0.9410, 0.4611, 0.5919, 0.3200],\n",
      "        [0.8322, 0.6526, 0.7122, 0.8202]])\n",
      "tensor([[0.9989, 0.9971, 0.4654, 0.0701],\n",
      "        [0.0770, 0.7398, 0.8573, 0.7955],\n",
      "        [0.9410, 0.4611, 0.5919, 0.3200],\n",
      "        [0.8322, 0.6526, 0.7122, 0.8202]])\n",
      "tensor([[5.9989, 5.9971, 5.4654, 5.0701],\n",
      "        [5.0770, 5.7398, 5.8573, 5.7955],\n",
      "        [5.9410, 5.4611, 5.5919, 5.3200],\n",
      "        [5.8322, 5.6526, 5.7122, 5.8202]])\n"
     ]
    }
   ],
   "source": [
    "#inplace operations deonted by _suffix\n",
    "print(tensor)\n",
    "tensor.add(5)\n",
    "print(tensor)\n",
    "tensor.add_(5)\n",
    "print(tensor)"
   ]
  },
  {
   "cell_type": "code",
   "execution_count": null,
   "id": "453678f7",
   "metadata": {},
   "outputs": [],
   "source": []
  }
 ],
 "metadata": {
  "kernelspec": {
   "display_name": "Python 3",
   "language": "python",
   "name": "python3"
  },
  "language_info": {
   "codemirror_mode": {
    "name": "ipython",
    "version": 3
   },
   "file_extension": ".py",
   "mimetype": "text/x-python",
   "name": "python",
   "nbconvert_exporter": "python",
   "pygments_lexer": "ipython3",
   "version": "3.8.5"
  }
 },
 "nbformat": 4,
 "nbformat_minor": 5
}
