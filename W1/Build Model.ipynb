{
 "cells": [
  {
   "cell_type": "code",
   "execution_count": 36,
   "id": "2a0fcf90",
   "metadata": {},
   "outputs": [],
   "source": [
    "import os\n",
    "import torch\n",
    "from torch import nn\n",
    "from torch.utils.data import DataLoader\n",
    "from torchvision import datasets,transforms"
   ]
  },
  {
   "cell_type": "code",
   "execution_count": 37,
   "id": "964f11f3",
   "metadata": {},
   "outputs": [],
   "source": [
    "device = 'cpu'"
   ]
  },
  {
   "cell_type": "code",
   "execution_count": 49,
   "id": "e457f332",
   "metadata": {},
   "outputs": [],
   "source": [
    "class NeuralNetwork(nn.Module):\n",
    "    def __init__(self):\n",
    "        super(NeuralNetwork, self).__init__()\n",
    "        self.flatten = nn.Flatten()\n",
    "        self.linear_relu_stack = nn.Sequential(\n",
    "            nn.Linear(28*28,512),\n",
    "            nn.ReLU(),\n",
    "            nn.Linear(512,512),\n",
    "            nn.ReLU(),\n",
    "            nn.Linear(512,10),\n",
    "            nn.ReLU()\n",
    "        )\n",
    "    def forward(self,x):\n",
    "        x = self.flatten(x)\n",
    "        logits = self.linear_relu_stack(x);\n",
    "        return logits;"
   ]
  },
  {
   "cell_type": "code",
   "execution_count": 50,
   "id": "1143eccc",
   "metadata": {
    "scrolled": true
   },
   "outputs": [
    {
     "name": "stdout",
     "output_type": "stream",
     "text": [
      "NeuralNetwork(\n",
      "  (flatten): Flatten(start_dim=1, end_dim=-1)\n",
      "  (linear_relu_stack): Sequential(\n",
      "    (0): Linear(in_features=784, out_features=512, bias=True)\n",
      "    (1): ReLU()\n",
      "    (2): Linear(in_features=512, out_features=512, bias=True)\n",
      "    (3): ReLU()\n",
      "    (4): Linear(in_features=512, out_features=10, bias=True)\n",
      "    (5): ReLU()\n",
      "  )\n",
      ")\n"
     ]
    }
   ],
   "source": [
    "model = NeuralNetwork().to(device)\n",
    "print(model)"
   ]
  },
  {
   "cell_type": "code",
   "execution_count": 53,
   "id": "a4a4e684",
   "metadata": {},
   "outputs": [
    {
     "name": "stdout",
     "output_type": "stream",
     "text": [
      "tensor([0])\n"
     ]
    }
   ],
   "source": [
    "X = torch.rand(1,28,28,device = device)\n",
    "logits = model(X)\n",
    "pred_probab = nn.Softmax(dim = 1)(logits)\n",
    "y_pred = pred_probab.argmax(1)\n",
    "print(y_pred)"
   ]
  },
  {
   "cell_type": "code",
   "execution_count": 54,
   "id": "aee10bd9",
   "metadata": {},
   "outputs": [
    {
     "name": "stdout",
     "output_type": "stream",
     "text": [
      "torch.Size([3, 28, 28])\n"
     ]
    }
   ],
   "source": [
    "input_image = torch.rand(3,28,28)\n",
    "print(input_image.size())"
   ]
  },
  {
   "cell_type": "code",
   "execution_count": 66,
   "id": "9a0437af",
   "metadata": {},
   "outputs": [
    {
     "name": "stdout",
     "output_type": "stream",
     "text": [
      "torch.Size([3, 784])\n"
     ]
    }
   ],
   "source": [
    "flatten = nn.Flatten()\n",
    "flat_image = flatten(input_image)\n",
    "print(flat_image.size())"
   ]
  },
  {
   "cell_type": "code",
   "execution_count": 68,
   "id": "aae47076",
   "metadata": {},
   "outputs": [
    {
     "name": "stdout",
     "output_type": "stream",
     "text": [
      "torch.Size([3, 20])\n"
     ]
    }
   ],
   "source": [
    "layer1 = nn.Linear(in_features = 28*28,out_features = 20)\n",
    "hidden1 = layer1(flat_image)\n",
    "print(hidden1.size())"
   ]
  },
  {
   "cell_type": "code",
   "execution_count": 69,
   "id": "4f2e0a75",
   "metadata": {},
   "outputs": [
    {
     "name": "stdout",
     "output_type": "stream",
     "text": [
      "Before ReLU: tensor([[-0.4248, -0.4385,  0.2813, -0.0338, -0.2254,  0.2108,  0.4885,  0.0810,\n",
      "         -0.4464, -0.0054, -0.3593, -0.4829,  0.1447, -0.0218, -0.0698,  0.1356,\n",
      "          0.4105, -0.2758,  0.3172, -0.2591],\n",
      "        [-0.0483,  0.1521,  0.2358, -0.0711, -0.1779,  0.2245,  0.6793, -0.1477,\n",
      "         -0.3835, -0.1406,  0.1199,  0.1048,  0.3358,  0.4943,  0.2161, -0.0038,\n",
      "          0.4789, -0.5235, -0.0475,  0.3071],\n",
      "        [-0.4519, -0.2243,  0.4070,  0.2136, -0.2618,  0.4399,  0.2035,  0.0254,\n",
      "         -0.2920, -0.4880, -0.2758, -0.4441,  0.2287,  0.4807,  0.0065,  0.2649,\n",
      "          0.5310, -0.0479,  0.1860,  0.0454]], grad_fn=<AddmmBackward>)\n",
      "\n",
      "\n",
      "After ReLU: tensor([[0.0000, 0.0000, 0.2813, 0.0000, 0.0000, 0.2108, 0.4885, 0.0810, 0.0000,\n",
      "         0.0000, 0.0000, 0.0000, 0.1447, 0.0000, 0.0000, 0.1356, 0.4105, 0.0000,\n",
      "         0.3172, 0.0000],\n",
      "        [0.0000, 0.1521, 0.2358, 0.0000, 0.0000, 0.2245, 0.6793, 0.0000, 0.0000,\n",
      "         0.0000, 0.1199, 0.1048, 0.3358, 0.4943, 0.2161, 0.0000, 0.4789, 0.0000,\n",
      "         0.0000, 0.3071],\n",
      "        [0.0000, 0.0000, 0.4070, 0.2136, 0.0000, 0.4399, 0.2035, 0.0254, 0.0000,\n",
      "         0.0000, 0.0000, 0.0000, 0.2287, 0.4807, 0.0065, 0.2649, 0.5310, 0.0000,\n",
      "         0.1860, 0.0454]], grad_fn=<ReluBackward0>)\n",
      "\n",
      "\n"
     ]
    }
   ],
   "source": [
    "print(f\"Before ReLU: {hidden1}\\n\\n\")\n",
    "hidden1 = nn.ReLU()(hidden1)#(hidden1)\n",
    "print(f\"After ReLU: {hidden1}\\n\\n\")"
   ]
  },
  {
   "cell_type": "code",
   "execution_count": 71,
   "id": "9e1aeca3",
   "metadata": {},
   "outputs": [],
   "source": [
    "seq_modules = nn.Sequential(\n",
    "    flatten,\n",
    "    layer1,\n",
    "    nn.ReLU(),\n",
    "    nn.Linear(20, 10)\n",
    ")\n",
    "input_image = torch.rand(3,28,28)\n",
    "logits = seq_modules(input_image)"
   ]
  },
  {
   "cell_type": "code",
   "execution_count": 72,
   "id": "be761385",
   "metadata": {},
   "outputs": [],
   "source": [
    "softmax = nn.Softmax(dim=1)\n",
    "pred_probab = softmax(logits)"
   ]
  },
  {
   "cell_type": "code",
   "execution_count": 75,
   "id": "4c7d6648",
   "metadata": {},
   "outputs": [
    {
     "name": "stdout",
     "output_type": "stream",
     "text": [
      "Layer:linear_relu_stack.0.weight|Size: torch.Size([512, 784])|Values:tensor([[ 0.0176,  0.0216,  0.0240,  ..., -0.0334,  0.0047,  0.0278],\n",
      "        [-0.0063,  0.0133, -0.0325,  ...,  0.0028,  0.0084,  0.0306]],\n",
      "       grad_fn=<SliceBackward>)\n",
      "Layer:linear_relu_stack.0.bias|Size: torch.Size([512])|Values:tensor([0.0222, 0.0081], grad_fn=<SliceBackward>)\n",
      "Layer:linear_relu_stack.2.weight|Size: torch.Size([512, 512])|Values:tensor([[ 0.0063, -0.0288, -0.0126,  ...,  0.0404, -0.0382,  0.0321],\n",
      "        [ 0.0089,  0.0059,  0.0264,  ..., -0.0300, -0.0362,  0.0220]],\n",
      "       grad_fn=<SliceBackward>)\n",
      "Layer:linear_relu_stack.2.bias|Size: torch.Size([512])|Values:tensor([-0.0019,  0.0364], grad_fn=<SliceBackward>)\n",
      "Layer:linear_relu_stack.4.weight|Size: torch.Size([10, 512])|Values:tensor([[-0.0016, -0.0059, -0.0391,  ...,  0.0275,  0.0320,  0.0136],\n",
      "        [ 0.0127, -0.0097,  0.0418,  ..., -0.0226,  0.0157, -0.0319]],\n",
      "       grad_fn=<SliceBackward>)\n",
      "Layer:linear_relu_stack.4.bias|Size: torch.Size([10])|Values:tensor([ 0.0273, -0.0019], grad_fn=<SliceBackward>)\n"
     ]
    }
   ],
   "source": [
    "for name,param in model.named_parameters():\n",
    "    print(f\"Layer:{name}|Size: {param.size()}|Values:{param[:2]}\")"
   ]
  },
  {
   "cell_type": "code",
   "execution_count": null,
   "id": "ae224e71",
   "metadata": {},
   "outputs": [],
   "source": []
  }
 ],
 "metadata": {
  "kernelspec": {
   "display_name": "Python 3",
   "language": "python",
   "name": "python3"
  },
  "language_info": {
   "codemirror_mode": {
    "name": "ipython",
    "version": 3
   },
   "file_extension": ".py",
   "mimetype": "text/x-python",
   "name": "python",
   "nbconvert_exporter": "python",
   "pygments_lexer": "ipython3",
   "version": "3.8.5"
  }
 },
 "nbformat": 4,
 "nbformat_minor": 5
}
