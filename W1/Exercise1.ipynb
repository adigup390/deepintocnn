{
  "nbformat": 4,
  "nbformat_minor": 0,
  "metadata": {
    "colab": {
      "name": "Exercise1.ipynb",
      "private_outputs": true,
      "provenance": [],
      "authorship_tag": "ABX9TyOP7t6UoSZ0vnZR5YSUI2bs",
      "include_colab_link": true
    },
    "kernelspec": {
      "name": "python3",
      "display_name": "Python 3"
    },
    "language_info": {
      "name": "python"
    },
    "accelerator": "GPU"
  },
  "cells": [
    {
      "cell_type": "markdown",
      "metadata": {
        "id": "view-in-github",
        "colab_type": "text"
      },
      "source": [
        "<a href=\"https://colab.research.google.com/github/adigup390/deepintocnn/blob/main/Exercise1.ipynb\" target=\"_parent\"><img src=\"https://colab.research.google.com/assets/colab-badge.svg\" alt=\"Open In Colab\"/></a>"
      ]
    },
    {
      "cell_type": "code",
      "metadata": {
        "id": "qhdm-tCTxIMD"
      },
      "source": [
        "import torch\n",
        "import numpy as np"
      ],
      "execution_count": null,
      "outputs": []
    },
    {
      "cell_type": "code",
      "metadata": {
        "id": "yMvZPQ7FyKeZ"
      },
      "source": [
        "def activation(x):\n",
        "  return 1/(1+torch.exp(-x))"
      ],
      "execution_count": null,
      "outputs": []
    },
    {
      "cell_type": "code",
      "metadata": {
        "id": "HwLwFaNMyfrk"
      },
      "source": [
        "torch.manual_seed(7)\n",
        "features = torch.randn((1,5))\n",
        "weights = torch.rand_like(features)\n",
        "bias = torch.randn((1,1))"
      ],
      "execution_count": null,
      "outputs": []
    },
    {
      "cell_type": "code",
      "metadata": {
        "id": "I1Z6_lvC0BGH"
      },
      "source": [
        "y1 = features.matmul(weights.T)\n",
        "y2 = y1 + bias\n",
        "out = activation(y2)\n",
        "print(out)"
      ],
      "execution_count": null,
      "outputs": []
    },
    {
      "cell_type": "code",
      "metadata": {
        "id": "YNbcQQVi09do"
      },
      "source": [
        "torch.manual_seed(7)\n",
        "features = torch.randn((1,3))\n",
        "n_input = features.shape[1]\n",
        "n_hidden = 2;\n",
        "n_output = 1;\n",
        "W1 = torch.randn((n_input,n_hidden))\n",
        "W2 = torch.rand(n_hidden,n_output)\n",
        "B1 = torch.randn((1,n_hidden))\n",
        "B2 = torch.randn((1,n_output))"
      ],
      "execution_count": null,
      "outputs": []
    },
    {
      "cell_type": "code",
      "metadata": {
        "id": "HJr8neoA3Sbf"
      },
      "source": [
        "out1 = features.matmul(W1) + B1\n",
        "out1 = activation(out1)\n",
        "out2 = out1.matmul(W2) +  B2\n",
        "print(activation(out2))"
      ],
      "execution_count": null,
      "outputs": []
    },
    {
      "cell_type": "code",
      "metadata": {
        "id": "oePavQ2D3pZq"
      },
      "source": [
        "a = np.random.rand(4,3)\n",
        "a"
      ],
      "execution_count": null,
      "outputs": []
    },
    {
      "cell_type": "code",
      "metadata": {
        "id": "iqgeHAU05Mdc"
      },
      "source": [
        "b = torch.from_numpy(a)\n",
        "b"
      ],
      "execution_count": null,
      "outputs": []
    },
    {
      "cell_type": "code",
      "metadata": {
        "id": "8t3xsS5v5Vi7"
      },
      "source": [
        "b.numpy()\n",
        "#memory is shared between the numpy aray and tensor"
      ],
      "execution_count": null,
      "outputs": []
    },
    {
      "cell_type": "code",
      "metadata": {
        "id": "4iyfQlrM5Zi6"
      },
      "source": [
        "b.mul_(2)"
      ],
      "execution_count": null,
      "outputs": []
    },
    {
      "cell_type": "code",
      "metadata": {
        "id": "UGgIi1XP5dUK"
      },
      "source": [
        "a"
      ],
      "execution_count": null,
      "outputs": []
    },
    {
      "cell_type": "code",
      "metadata": {
        "id": "QsVDPCUr5gS7"
      },
      "source": [
        ""
      ],
      "execution_count": null,
      "outputs": []
    }
  ]
}
