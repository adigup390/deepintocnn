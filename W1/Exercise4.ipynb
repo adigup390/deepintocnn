{
  "nbformat": 4,
  "nbformat_minor": 0,
  "metadata": {
    "colab": {
      "name": "Exercise2.ipynb",
      "provenance": [],
      "authorship_tag": "ABX9TyN+eTZ/fB/9pgIi4oD6sTIQ",
      "include_colab_link": true
    },
    "kernelspec": {
      "name": "python3",
      "display_name": "Python 3"
    },
    "language_info": {
      "name": "python"
    },
    "accelerator": "GPU"
  },
  "cells": [
    {
      "cell_type": "markdown",
      "metadata": {
        "id": "view-in-github",
        "colab_type": "text"
      },
      "source": [
        "<a href=\"https://colab.research.google.com/github/adigup390/deepintocnn/blob/main/Exercise4.ipynb\" target=\"_parent\"><img src=\"https://colab.research.google.com/assets/colab-badge.svg\" alt=\"Open In Colab\"/></a>"
      ]
    },
    {
      "cell_type": "code",
      "metadata": {
        "id": "x0jhYPhYNLxi",
        "outputId": "28cf2fca-0307-4685-f59a-580c3f7b9b60",
        "colab": {
          "base_uri": "https://localhost:8080/"
        }
      },
      "source": [
        "!wget -c https://raw.githubusercontent.com/udacity/deep-learning-v2-pytorch/master/intro-to-pytorch/helper.py"
      ],
      "execution_count": 1,
      "outputs": [
        {
          "output_type": "stream",
          "text": [
            "--2021-06-05 17:25:22--  https://raw.githubusercontent.com/udacity/deep-learning-v2-pytorch/master/intro-to-pytorch/helper.py\n",
            "Resolving raw.githubusercontent.com (raw.githubusercontent.com)... 185.199.108.133, 185.199.109.133, 185.199.110.133, ...\n",
            "Connecting to raw.githubusercontent.com (raw.githubusercontent.com)|185.199.108.133|:443... connected.\n",
            "HTTP request sent, awaiting response... 416 Range Not Satisfiable\n",
            "\n",
            "    The file is already fully retrieved; nothing to do.\n",
            "\n"
          ],
          "name": "stdout"
        }
      ]
    },
    {
      "cell_type": "code",
      "metadata": {
        "id": "GEp5r3ZQwpz1"
      },
      "source": [
        "import torch\n",
        "from torchvision import datasets,transforms\n",
        "import helper\n",
        "\n",
        "transform = transforms.Compose([transforms.ToTensor(),\n",
        "                                transforms.Normalize((0.5,),(0.5,))])\n",
        "\n",
        "trainset = datasets.FashionMNIST('~/.pytorch/F_MNIST_data/', download = True, train = True, transform  = transform)\n",
        "trainloader = torch.utils.data.DataLoader(trainset, batch_size = 64,shuffle = True)\n",
        "\n",
        "testset = datasets.FashionMNIST('~/.pytorch/F_MNIST_data/', download = True, train = False, transform  = transform)\n",
        "testloader = torch.utils.data.DataLoader(testset, batch_size = 64,shuffle = True)\n"
      ],
      "execution_count": 2,
      "outputs": []
    },
    {
      "cell_type": "code",
      "metadata": {
        "colab": {
          "base_uri": "https://localhost:8080/",
          "height": 265
        },
        "id": "9eq53JamzI4-",
        "outputId": "ac56580b-77ab-43c0-9225-05a4ac66ec18"
      },
      "source": [
        "image, label = next(iter(trainloader))\n",
        "helper.imshow(image[0,:])"
      ],
      "execution_count": 3,
      "outputs": [
        {
          "output_type": "execute_result",
          "data": {
            "text/plain": [
              "<matplotlib.axes._subplots.AxesSubplot at 0x7f6cb7074990>"
            ]
          },
          "metadata": {
            "tags": []
          },
          "execution_count": 3
        },
        {
          "output_type": "display_data",
          "data": {
            "image/png": "[encoded data removed]",
            "text/plain": [
              "<Figure size 432x288 with 1 Axes>"
            ]
          },
          "metadata": {
            "tags": [],
            "needs_background": "light"
          }
        }
      ]
    },
    {
      "cell_type": "code",
      "metadata": {
        "colab": {
          "base_uri": "https://localhost:8080/"
        },
        "id": "LCz-4MOczWb3",
        "outputId": "a840ddcd-091c-4cdd-ac2f-43efd44055f9"
      },
      "source": [
        "from torch import nn\n",
        "model = nn.Sequential(nn.Linear(784,256),\n",
        "                      nn.ReLU(),\n",
        "                      nn.Linear(256,64),\n",
        "                      nn.ReLU(),\n",
        "                      nn.Linear(64,64),\n",
        "                      nn.ReLU(),\n",
        "                      nn.Linear(64,32),\n",
        "                      nn.ReLU(),\n",
        "                      nn.Linear(32,10),\n",
        "                      nn.LogSoftmax(dim = 1))\n",
        "print(model)\n"
      ],
      "execution_count": 4,
      "outputs": [
        {
          "output_type": "stream",
          "text": [
            "Sequential(\n",
            "  (0): Linear(in_features=784, out_features=256, bias=True)\n",
            "  (1): ReLU()\n",
            "  (2): Linear(in_features=256, out_features=64, bias=True)\n",
            "  (3): ReLU()\n",
            "  (4): Linear(in_features=64, out_features=64, bias=True)\n",
            "  (5): ReLU()\n",
            "  (6): Linear(in_features=64, out_features=32, bias=True)\n",
            "  (7): ReLU()\n",
            "  (8): Linear(in_features=32, out_features=10, bias=True)\n",
            "  (9): LogSoftmax(dim=1)\n",
            ")\n"
          ],
          "name": "stdout"
        }
      ]
    },
    {
      "cell_type": "code",
      "metadata": {
        "id": "gVwErEB-0Y3H"
      },
      "source": [
        "criterion = nn.NLLLoss()\n",
        "\n",
        "from torch import optim\n",
        "optimizer = optim.SGD(model.parameters(),lr = 0.015)\n"
      ],
      "execution_count": 14,
      "outputs": []
    },
    {
      "cell_type": "code",
      "metadata": {
        "colab": {
          "base_uri": "https://localhost:8080/"
        },
        "id": "nwNNo-fQ18pu",
        "outputId": "c5448a05-ff99-456a-d61d-550c4c7e432f"
      },
      "source": [
        "epochs = 5\n",
        "for i in range(epochs):\n",
        "    running_loss = 0\n",
        "    for images,labels in iter(trainloader):\n",
        "        optimizer.zero_grad()\n",
        "        input = images.resize_(images.shape[0],784)\n",
        "        output = model(input)\n",
        "        loss = criterion(output,labels)\n",
        "        running_loss+= loss\n",
        "        loss.backward()\n",
        "        optimizer.step()\n",
        "    print(f\"Loss = {running_loss}\")"
      ],
      "execution_count": 23,
      "outputs": [
        {
          "output_type": "stream",
          "text": [
            "Loss = 0.33730244636535645\n",
            "Loss = 0.3280937671661377\n",
            "Loss = 0.3221174478530884\n",
            "Loss = 0.3167419731616974\n",
            "Loss = 0.311571329832077\n"
          ],
          "name": "stdout"
        }
      ]
    },
    {
      "cell_type": "code",
      "metadata": {
        "colab": {
          "base_uri": "https://localhost:8080/"
        },
        "id": "WT3wh7r98Blp",
        "outputId": "a44ee75a-4ce6-4450-8e1d-6ec942bc924c"
      },
      "source": [
        "correct = 0\n",
        "total = 0\n",
        "for image,label in testloader:\n",
        "  input = image.resize_(image.shape[0],784)\n",
        "  output = model(input)\n",
        "  _, predicted = torch.max(output,dim = 1)\n",
        "  #print(label.shape[0])\n",
        "  total += output.shape[0]\n",
        "  boolarr = predicted==label\n",
        "  correct+= torch.sum(boolarr).item()\n",
        "  #print(boolarr.shape)\n",
        "  #print(correct)\n",
        "print(total)\n",
        "print(correct)\n",
        "print(f\"Accuracy = {correct/total*100}\")"
      ],
      "execution_count": 24,
      "outputs": [
        {
          "output_type": "stream",
          "text": [
            "10000\n",
            "8946\n",
            "Accuracy = 89.46\n"
          ],
          "name": "stdout"
        }
      ]
    },
    {
      "cell_type": "code",
      "metadata": {
        "id": "dVlOoCBRE43h",
        "outputId": "268cf2ca-015d-4b74-e0bc-3a67180a2859",
        "colab": {
          "base_uri": "https://localhost:8080/"
        }
      },
      "source": [
        "from google.colab import drive\n",
        "drive.mount('/content/gdrive')"
      ],
      "execution_count": 25,
      "outputs": [
        {
          "output_type": "stream",
          "text": [
            "Mounted at /content/gdrive\n"
          ],
          "name": "stdout"
        }
      ]
    },
    {
      "cell_type": "code",
      "metadata": {
        "id": "BcQZX3zMV0-8"
      },
      "source": [
        "model_save_name = 'FashionMNISTclassifier.pt'\n",
        "path = F\"/content/gdrive/My Drive/{model_save_name}\" \n",
        "torch.save(model.state_dict(), path)"
      ],
      "execution_count": 28,
      "outputs": []
    },
    {
      "cell_type": "code",
      "metadata": {
        "id": "uD925kG2WHz1"
      },
      "source": [
        ""
      ],
      "execution_count": null,
      "outputs": []
    }
  ]
}
