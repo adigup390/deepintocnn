{
 "cells": [
  {
   "cell_type": "code",
   "execution_count": 1,
   "id": "45de5489",
   "metadata": {},
   "outputs": [],
   "source": [
    "import torch\n",
    "from torch import nn\n",
    "from torch.utils.data import DataLoader\n",
    "from torchvision import datasets\n",
    "from torchvision.transforms import ToTensor, Lambda, Compose\n",
    "import matplotlib.pyplot as plt"
   ]
  },
  {
   "cell_type": "code",
   "execution_count": 2,
   "id": "5e9c244d",
   "metadata": {},
   "outputs": [
    {
     "name": "stdout",
     "output_type": "stream",
     "text": [
      "Downloading http://fashion-mnist.s3-website.eu-central-1.amazonaws.com/train-images-idx3-ubyte.gz\n",
      "Using downloaded and verified file: data/FashionMNIST/raw/train-images-idx3-ubyte.gz\n",
      "Extracting data/FashionMNIST/raw/train-images-idx3-ubyte.gz to data/FashionMNIST/raw\n",
      "\n",
      "Downloading http://fashion-mnist.s3-website.eu-central-1.amazonaws.com/train-labels-idx1-ubyte.gz\n",
      "Using downloaded and verified file: data/FashionMNIST/raw/train-labels-idx1-ubyte.gz\n",
      "Extracting data/FashionMNIST/raw/train-labels-idx1-ubyte.gz to data/FashionMNIST/raw\n",
      "\n",
      "Downloading http://fashion-mnist.s3-website.eu-central-1.amazonaws.com/t10k-images-idx3-ubyte.gz\n",
      "Downloading http://fashion-mnist.s3-website.eu-central-1.amazonaws.com/t10k-images-idx3-ubyte.gz to data/FashionMNIST/raw/t10k-images-idx3-ubyte.gz\n"
     ]
    },
    {
     "data": {
      "application/vnd.jupyter.widget-view+json": {
       "model_id": "0b14991900c94b2f9dfc05de07edde37",
       "version_major": 2,
       "version_minor": 0
      },
      "text/plain": [
       "  0%|          | 0/4422102 [00:00<?, ?it/s]"
      ]
     },
     "metadata": {},
     "output_type": "display_data"
    },
    {
     "name": "stdout",
     "output_type": "stream",
     "text": [
      "Extracting data/FashionMNIST/raw/t10k-images-idx3-ubyte.gz to data/FashionMNIST/raw\n",
      "\n",
      "Downloading http://fashion-mnist.s3-website.eu-central-1.amazonaws.com/t10k-labels-idx1-ubyte.gz\n",
      "Downloading http://fashion-mnist.s3-website.eu-central-1.amazonaws.com/t10k-labels-idx1-ubyte.gz to data/FashionMNIST/raw/t10k-labels-idx1-ubyte.gz\n"
     ]
    },
    {
     "data": {
      "application/vnd.jupyter.widget-view+json": {
       "model_id": "5d7f41630fc74e2eba6455450a9a0140",
       "version_major": 2,
       "version_minor": 0
      },
      "text/plain": [
       "  0%|          | 0/5148 [00:00<?, ?it/s]"
      ]
     },
     "metadata": {},
     "output_type": "display_data"
    },
    {
     "name": "stdout",
     "output_type": "stream",
     "text": [
      "Extracting data/FashionMNIST/raw/t10k-labels-idx1-ubyte.gz to data/FashionMNIST/raw\n",
      "\n",
      "Processing...\n"
     ]
    },
    {
     "name": "stderr",
     "output_type": "stream",
     "text": [
      "/home/aditya/anaconda3/lib/python3.8/site-packages/torchvision/datasets/mnist.py:502: UserWarning: The given NumPy array is not writeable, and PyTorch does not support non-writeable tensors. This means you can write to the underlying (supposedly non-writeable) NumPy array using the tensor. You may want to copy the array to protect its data or make it writeable before converting it to a tensor. This type of warning will be suppressed for the rest of this program. (Triggered internally at  /opt/conda/conda-bld/pytorch_1616554796012/work/torch/csrc/utils/tensor_numpy.cpp:143.)\n",
      "  return torch.from_numpy(parsed.astype(m[2], copy=False)).view(*s)\n"
     ]
    },
    {
     "name": "stdout",
     "output_type": "stream",
     "text": [
      "Done!\n"
     ]
    }
   ],
   "source": [
    "training_data = datasets.FashionMNIST(\n",
    "    root = \"data\",\n",
    "    train = True,\n",
    "    download = True,\n",
    "    transform = ToTensor(),\n",
    ")\n",
    "test_data = datasets.FashionMNIST(\n",
    "    root = \"data\",\n",
    "    train = False,\n",
    "    download = True,\n",
    "    transform = ToTensor(),\n",
    ")"
   ]
  },
  {
   "cell_type": "code",
   "execution_count": 6,
   "id": "02adf75a",
   "metadata": {},
   "outputs": [
    {
     "name": "stdout",
     "output_type": "stream",
     "text": [
      "Shape pf X[N,C,H,W]:  torch.Size([64, 1, 28, 28])\n",
      "Shape of y: torch.Size([64]) torch.int64\n"
     ]
    }
   ],
   "source": [
    "batch_size = 64\n",
    "#Create data loaders\n",
    "train_dataloader = DataLoader(training_data,batch_size = batch_size)\n",
    "test_dataloader = DataLoader(test_data,batch_size = batch_size)\n",
    "for X,y in test_dataloader:\n",
    "    print(\"Shape pf X[N,C,H,W]: \",X.shape)\n",
    "    print(\"Shape of y:\", y.shape,y.dtype)\n",
    "    break;"
   ]
  },
  {
   "cell_type": "code",
   "execution_count": 10,
   "id": "02e97623",
   "metadata": {},
   "outputs": [
    {
     "name": "stdout",
     "output_type": "stream",
     "text": [
      "NeuralNetwork(\n",
      "  (flatten): Flatten(start_dim=1, end_dim=-1)\n",
      "  (linear_relu_stack): Sequential(\n",
      "    (0): Linear(in_features=784, out_features=512, bias=True)\n",
      "    (1): ReLU()\n",
      "    (2): Linear(in_features=512, out_features=512, bias=True)\n",
      "    (3): ReLU()\n",
      "    (4): Linear(in_features=512, out_features=10, bias=True)\n",
      "    (5): ReLU()\n",
      "  )\n",
      ")\n"
     ]
    }
   ],
   "source": [
    "device = \"cpu\"\n",
    "class NeuralNetwork(nn.Module):\n",
    "    def __init__(self):\n",
    "        super(NeuralNetwork,self).__init__()\n",
    "        self.flatten = nn.Flatten()\n",
    "        self.linear_relu_stack = nn.Sequential(\n",
    "            nn.Linear(28*28,512),\n",
    "            nn.ReLU(),\n",
    "            nn.Linear(512,512),\n",
    "            nn.ReLU(),\n",
    "            nn.Linear(512,10),\n",
    "            nn.ReLU()\n",
    "        )\n",
    "    def forward(self,x):\n",
    "        x = self.flatten(x);\n",
    "        logits = self.linear_relu_stack(x);\n",
    "        return logits\n",
    "    \n",
    "model = NeuralNetwork().to(device)\n",
    "print(model)"
   ]
  },
  {
   "cell_type": "code",
   "execution_count": 22,
   "id": "6358513f",
   "metadata": {},
   "outputs": [
    {
     "name": "stdout",
     "output_type": "stream",
     "text": [
      "Predicted class:tensor([2])\n"
     ]
    }
   ],
   "source": [
    "X = torch.rand(1,28,28, device = device)\n",
    "logits = model(X)\n",
    "pred_probab = nn.Softmax(dim=1)(logits)\n",
    "y_pred = pred_probab.argmax(1)\n",
    "print(f\"Predicted class:{y_pred}\")"
   ]
  },
  {
   "cell_type": "code",
   "execution_count": 29,
   "id": "75e1a520",
   "metadata": {},
   "outputs": [
    {
     "name": "stdout",
     "output_type": "stream",
     "text": [
      "torch.Size([3, 28, 28])\n"
     ]
    }
   ],
   "source": [
    "input_image = torch.rand(3,28,28)\n",
    "print(input_image.size())"
   ]
  },
  {
   "cell_type": "code",
   "execution_count": 30,
   "id": "d5a34034",
   "metadata": {},
   "outputs": [
    {
     "name": "stdout",
     "output_type": "stream",
     "text": [
      "torch.Size([3, 784])\n"
     ]
    }
   ],
   "source": [
    "flatten = nn.Flatten()\n",
    "flat_image = flatten(input_image)\n",
    "print(flat_image.size())"
   ]
  },
  {
   "cell_type": "code",
   "execution_count": 34,
   "id": "82a289ba",
   "metadata": {},
   "outputs": [
    {
     "name": "stdout",
     "output_type": "stream",
     "text": [
      "torch.Size([3, 20])\n"
     ]
    }
   ],
   "source": [
    "layer1 = nn.Linear(in_features = 28*28,out_features=20)\n",
    "hidden1 = layer1(flat_image)\n",
    "print(hidden1.size())"
   ]
  },
  {
   "cell_type": "code",
   "execution_count": 35,
   "id": "b4d19ebc",
   "metadata": {},
   "outputs": [
    {
     "name": "stdout",
     "output_type": "stream",
     "text": [
      "Before ReLU: tensor([[-0.3391, -0.4071,  0.4259,  0.1217,  0.0663, -0.1794,  0.5269,  0.1116,\n",
      "         -0.0503, -0.0156, -0.8632,  0.1132, -0.1499, -0.1554,  0.3423,  0.1797,\n",
      "          0.2342,  0.0793,  0.7147,  0.4558],\n",
      "        [ 0.1152,  0.0057,  0.3075,  0.2161, -0.0940,  0.1436,  0.2408,  0.0049,\n",
      "         -0.4983, -0.1316, -0.2202,  0.3848,  0.0146, -0.0682,  0.2400,  0.7193,\n",
      "          0.3585,  0.3048,  0.8669,  0.2543],\n",
      "        [-0.1006, -0.3820,  0.2890,  0.0320,  0.1251, -0.1713,  0.0840,  0.1294,\n",
      "         -0.6964,  0.0189, -0.1214,  0.5666,  0.1528,  0.1654, -0.2570,  0.2260,\n",
      "          0.3645,  0.0357,  0.7629,  0.0299]], grad_fn=<AddmmBackward>)\n",
      "\n",
      "\n",
      "After ReLU: tensor([[0.0000, 0.0000, 0.4259, 0.1217, 0.0663, 0.0000, 0.5269, 0.1116, 0.0000,\n",
      "         0.0000, 0.0000, 0.1132, 0.0000, 0.0000, 0.3423, 0.1797, 0.2342, 0.0793,\n",
      "         0.7147, 0.4558],\n",
      "        [0.1152, 0.0057, 0.3075, 0.2161, 0.0000, 0.1436, 0.2408, 0.0049, 0.0000,\n",
      "         0.0000, 0.0000, 0.3848, 0.0146, 0.0000, 0.2400, 0.7193, 0.3585, 0.3048,\n",
      "         0.8669, 0.2543],\n",
      "        [0.0000, 0.0000, 0.2890, 0.0320, 0.1251, 0.0000, 0.0840, 0.1294, 0.0000,\n",
      "         0.0189, 0.0000, 0.5666, 0.1528, 0.1654, 0.0000, 0.2260, 0.3645, 0.0357,\n",
      "         0.7629, 0.0299]], grad_fn=<ReluBackward0>)\n"
     ]
    }
   ],
   "source": [
    "print(f\"Before ReLU: {hidden1}\\n\\n\")\n",
    "hidden1 = nn.ReLU()(hidden1)\n",
    "print(f\"After ReLU: {hidden1}\")"
   ]
  },
  {
   "cell_type": "code",
   "execution_count": 36,
   "id": "75a07ab9",
   "metadata": {},
   "outputs": [],
   "source": [
    "seq_modules = nn.Sequential(\n",
    "    flatten,\n",
    "    layer1,\n",
    "    nn.ReLU(),\n",
    "    nn.Linear(20,10)\n",
    ")\n",
    "input_image = torch.rand(3,28,28)\n",
    "logits = seq_modules(input_image)"
   ]
  },
  {
   "cell_type": "code",
   "execution_count": 38,
   "id": "3da84200",
   "metadata": {},
   "outputs": [],
   "source": [
    "softmax = nn.Softmax(dim = 0)\n",
    "pred_probab = softmax(logits)"
   ]
  },
  {
   "cell_type": "code",
   "execution_count": 40,
   "id": "7c6c6d6d",
   "metadata": {},
   "outputs": [
    {
     "name": "stdout",
     "output_type": "stream",
     "text": [
      "Model structure:  NeuralNetwork(\n",
      "  (flatten): Flatten(start_dim=1, end_dim=-1)\n",
      "  (linear_relu_stack): Sequential(\n",
      "    (0): Linear(in_features=784, out_features=512, bias=True)\n",
      "    (1): ReLU()\n",
      "    (2): Linear(in_features=512, out_features=512, bias=True)\n",
      "    (3): ReLU()\n",
      "    (4): Linear(in_features=512, out_features=10, bias=True)\n",
      "    (5): ReLU()\n",
      "  )\n",
      ") \n",
      "\n",
      "\n",
      "Layer:linear_relu_stack.0.weight| Size:torch.Size([512, 784])|Values:tensor([[ 0.0122,  0.0176, -0.0206,  ...,  0.0254,  0.0306, -0.0310],\n",
      "        [ 0.0144,  0.0207,  0.0338,  ..., -0.0260, -0.0035,  0.0085]],\n",
      "       grad_fn=<SliceBackward>)\n",
      "Layer:linear_relu_stack.0.bias| Size:torch.Size([512])|Values:tensor([0.0140, 0.0328], grad_fn=<SliceBackward>)\n",
      "Layer:linear_relu_stack.2.weight| Size:torch.Size([512, 512])|Values:tensor([[ 0.0209, -0.0375, -0.0248,  ..., -0.0363,  0.0197,  0.0061],\n",
      "        [-0.0070, -0.0184, -0.0092,  ..., -0.0308, -0.0240,  0.0119]],\n",
      "       grad_fn=<SliceBackward>)\n",
      "Layer:linear_relu_stack.2.bias| Size:torch.Size([512])|Values:tensor([ 0.0332, -0.0228], grad_fn=<SliceBackward>)\n",
      "Layer:linear_relu_stack.4.weight| Size:torch.Size([10, 512])|Values:tensor([[-0.0351, -0.0194,  0.0239,  ...,  0.0336,  0.0328, -0.0439],\n",
      "        [ 0.0301,  0.0119,  0.0399,  ..., -0.0108,  0.0282,  0.0112]],\n",
      "       grad_fn=<SliceBackward>)\n",
      "Layer:linear_relu_stack.4.bias| Size:torch.Size([10])|Values:tensor([-0.0369,  0.0022], grad_fn=<SliceBackward>)\n"
     ]
    }
   ],
   "source": [
    "print(\"Model structure: \",model,\"\\n\\n\")\n",
    "for name,param in model.named_parameters():\n",
    "    print(f\"Layer:{name}| Size:{param.size()}|Values:{param[:2]}\")"
   ]
  },
  {
   "cell_type": "code",
   "execution_count": null,
   "id": "e1eb74c8",
   "metadata": {},
   "outputs": [],
   "source": []
  }
 ],
 "metadata": {
  "kernelspec": {
   "display_name": "Python 3",
   "language": "python",
   "name": "python3"
  },
  "language_info": {
   "codemirror_mode": {
    "name": "ipython",
    "version": 3
   },
   "file_extension": ".py",
   "mimetype": "text/x-python",
   "name": "python",
   "nbconvert_exporter": "python",
   "pygments_lexer": "ipython3",
   "version": "3.8.5"
  }
 },
 "nbformat": 4,
 "nbformat_minor": 5
}
